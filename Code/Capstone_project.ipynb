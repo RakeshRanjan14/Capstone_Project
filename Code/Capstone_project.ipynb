{
 "cells": [
  {
   "cell_type": "code",
   "execution_count": 39,
   "id": "b7b85d0d",
   "metadata": {},
   "outputs": [],
   "source": [
    "import pandas as pd\n",
    "import tensorflow as tf\n",
    "import numpy as np\n",
    "from sklearn.model_selection import train_test_split\n",
    "from sklearn.preprocessing import StandardScaler\n"
   ]
  },
  {
   "cell_type": "code",
   "execution_count": 10,
   "id": "4915439d",
   "metadata": {},
   "outputs": [],
   "source": [
    "df_churn= pd.read_csv('cust_churn.csv')# loading data"
   ]
  },
  {
   "cell_type": "code",
   "execution_count": 11,
   "id": "b4f0de4d",
   "metadata": {
    "scrolled": false
   },
   "outputs": [
    {
     "data": {
      "text/html": [
       "<div>\n",
       "<style scoped>\n",
       "    .dataframe tbody tr th:only-of-type {\n",
       "        vertical-align: middle;\n",
       "    }\n",
       "\n",
       "    .dataframe tbody tr th {\n",
       "        vertical-align: top;\n",
       "    }\n",
       "\n",
       "    .dataframe thead th {\n",
       "        text-align: right;\n",
       "    }\n",
       "</style>\n",
       "<table border=\"1\" class=\"dataframe\">\n",
       "  <thead>\n",
       "    <tr style=\"text-align: right;\">\n",
       "      <th></th>\n",
       "      <th>ID_cu</th>\n",
       "      <th>Surname</th>\n",
       "      <th>Credit_score</th>\n",
       "      <th>Country</th>\n",
       "      <th>sex</th>\n",
       "      <th>Age</th>\n",
       "      <th>Tenure_with_bank_year</th>\n",
       "      <th>Balance</th>\n",
       "      <th>NumOfProducts</th>\n",
       "      <th>OwnCard</th>\n",
       "      <th>IsActiveMember</th>\n",
       "      <th>estSalary</th>\n",
       "      <th>Exited</th>\n",
       "    </tr>\n",
       "  </thead>\n",
       "  <tbody>\n",
       "    <tr>\n",
       "      <th>0</th>\n",
       "      <td>15634602</td>\n",
       "      <td>Hargrave</td>\n",
       "      <td>619</td>\n",
       "      <td>France</td>\n",
       "      <td>Female</td>\n",
       "      <td>42</td>\n",
       "      <td>2</td>\n",
       "      <td>0.00</td>\n",
       "      <td>1</td>\n",
       "      <td>1</td>\n",
       "      <td>1</td>\n",
       "      <td>101348.88</td>\n",
       "      <td>1</td>\n",
       "    </tr>\n",
       "    <tr>\n",
       "      <th>1</th>\n",
       "      <td>15647311</td>\n",
       "      <td>Hill</td>\n",
       "      <td>608</td>\n",
       "      <td>Spain</td>\n",
       "      <td>Female</td>\n",
       "      <td>41</td>\n",
       "      <td>1</td>\n",
       "      <td>83807.86</td>\n",
       "      <td>1</td>\n",
       "      <td>0</td>\n",
       "      <td>1</td>\n",
       "      <td>112542.58</td>\n",
       "      <td>0</td>\n",
       "    </tr>\n",
       "    <tr>\n",
       "      <th>2</th>\n",
       "      <td>15619304</td>\n",
       "      <td>Onio</td>\n",
       "      <td>502</td>\n",
       "      <td>France</td>\n",
       "      <td>Female</td>\n",
       "      <td>42</td>\n",
       "      <td>8</td>\n",
       "      <td>159660.80</td>\n",
       "      <td>3</td>\n",
       "      <td>1</td>\n",
       "      <td>0</td>\n",
       "      <td>113931.57</td>\n",
       "      <td>1</td>\n",
       "    </tr>\n",
       "    <tr>\n",
       "      <th>3</th>\n",
       "      <td>15701354</td>\n",
       "      <td>Boni</td>\n",
       "      <td>699</td>\n",
       "      <td>France</td>\n",
       "      <td>Female</td>\n",
       "      <td>39</td>\n",
       "      <td>1</td>\n",
       "      <td>0.00</td>\n",
       "      <td>2</td>\n",
       "      <td>0</td>\n",
       "      <td>0</td>\n",
       "      <td>93826.63</td>\n",
       "      <td>0</td>\n",
       "    </tr>\n",
       "    <tr>\n",
       "      <th>4</th>\n",
       "      <td>15737888</td>\n",
       "      <td>Mitchell</td>\n",
       "      <td>850</td>\n",
       "      <td>Spain</td>\n",
       "      <td>Female</td>\n",
       "      <td>43</td>\n",
       "      <td>2</td>\n",
       "      <td>125510.82</td>\n",
       "      <td>1</td>\n",
       "      <td>1</td>\n",
       "      <td>1</td>\n",
       "      <td>79084.10</td>\n",
       "      <td>0</td>\n",
       "    </tr>\n",
       "    <tr>\n",
       "      <th>...</th>\n",
       "      <td>...</td>\n",
       "      <td>...</td>\n",
       "      <td>...</td>\n",
       "      <td>...</td>\n",
       "      <td>...</td>\n",
       "      <td>...</td>\n",
       "      <td>...</td>\n",
       "      <td>...</td>\n",
       "      <td>...</td>\n",
       "      <td>...</td>\n",
       "      <td>...</td>\n",
       "      <td>...</td>\n",
       "      <td>...</td>\n",
       "    </tr>\n",
       "    <tr>\n",
       "      <th>9995</th>\n",
       "      <td>15606229</td>\n",
       "      <td>Obijiaku</td>\n",
       "      <td>771</td>\n",
       "      <td>France</td>\n",
       "      <td>Male</td>\n",
       "      <td>39</td>\n",
       "      <td>5</td>\n",
       "      <td>0.00</td>\n",
       "      <td>2</td>\n",
       "      <td>1</td>\n",
       "      <td>0</td>\n",
       "      <td>96270.64</td>\n",
       "      <td>0</td>\n",
       "    </tr>\n",
       "    <tr>\n",
       "      <th>9996</th>\n",
       "      <td>15569892</td>\n",
       "      <td>Johnstone</td>\n",
       "      <td>516</td>\n",
       "      <td>France</td>\n",
       "      <td>Male</td>\n",
       "      <td>35</td>\n",
       "      <td>10</td>\n",
       "      <td>57369.61</td>\n",
       "      <td>1</td>\n",
       "      <td>1</td>\n",
       "      <td>1</td>\n",
       "      <td>101699.77</td>\n",
       "      <td>0</td>\n",
       "    </tr>\n",
       "    <tr>\n",
       "      <th>9997</th>\n",
       "      <td>15584532</td>\n",
       "      <td>Liu</td>\n",
       "      <td>709</td>\n",
       "      <td>France</td>\n",
       "      <td>Female</td>\n",
       "      <td>36</td>\n",
       "      <td>7</td>\n",
       "      <td>0.00</td>\n",
       "      <td>1</td>\n",
       "      <td>0</td>\n",
       "      <td>1</td>\n",
       "      <td>42085.58</td>\n",
       "      <td>1</td>\n",
       "    </tr>\n",
       "    <tr>\n",
       "      <th>9998</th>\n",
       "      <td>15682355</td>\n",
       "      <td>Sabbatini</td>\n",
       "      <td>772</td>\n",
       "      <td>Germany</td>\n",
       "      <td>Male</td>\n",
       "      <td>42</td>\n",
       "      <td>3</td>\n",
       "      <td>75075.31</td>\n",
       "      <td>2</td>\n",
       "      <td>1</td>\n",
       "      <td>0</td>\n",
       "      <td>92888.52</td>\n",
       "      <td>1</td>\n",
       "    </tr>\n",
       "    <tr>\n",
       "      <th>9999</th>\n",
       "      <td>15628319</td>\n",
       "      <td>Walker</td>\n",
       "      <td>792</td>\n",
       "      <td>France</td>\n",
       "      <td>Female</td>\n",
       "      <td>28</td>\n",
       "      <td>4</td>\n",
       "      <td>130142.79</td>\n",
       "      <td>1</td>\n",
       "      <td>1</td>\n",
       "      <td>0</td>\n",
       "      <td>38190.78</td>\n",
       "      <td>0</td>\n",
       "    </tr>\n",
       "  </tbody>\n",
       "</table>\n",
       "<p>10000 rows × 13 columns</p>\n",
       "</div>"
      ],
      "text/plain": [
       "         ID_cu    Surname  Credit_score  Country     sex  Age  \\\n",
       "0     15634602   Hargrave           619   France  Female   42   \n",
       "1     15647311       Hill           608    Spain  Female   41   \n",
       "2     15619304       Onio           502   France  Female   42   \n",
       "3     15701354       Boni           699   France  Female   39   \n",
       "4     15737888   Mitchell           850    Spain  Female   43   \n",
       "...        ...        ...           ...      ...     ...  ...   \n",
       "9995  15606229   Obijiaku           771   France    Male   39   \n",
       "9996  15569892  Johnstone           516   France    Male   35   \n",
       "9997  15584532        Liu           709   France  Female   36   \n",
       "9998  15682355  Sabbatini           772  Germany    Male   42   \n",
       "9999  15628319     Walker           792   France  Female   28   \n",
       "\n",
       "      Tenure_with_bank_year    Balance  NumOfProducts  OwnCard  \\\n",
       "0                         2       0.00              1        1   \n",
       "1                         1   83807.86              1        0   \n",
       "2                         8  159660.80              3        1   \n",
       "3                         1       0.00              2        0   \n",
       "4                         2  125510.82              1        1   \n",
       "...                     ...        ...            ...      ...   \n",
       "9995                      5       0.00              2        1   \n",
       "9996                     10   57369.61              1        1   \n",
       "9997                      7       0.00              1        0   \n",
       "9998                      3   75075.31              2        1   \n",
       "9999                      4  130142.79              1        1   \n",
       "\n",
       "      IsActiveMember  estSalary  Exited  \n",
       "0                  1  101348.88       1  \n",
       "1                  1  112542.58       0  \n",
       "2                  0  113931.57       1  \n",
       "3                  0   93826.63       0  \n",
       "4                  1   79084.10       0  \n",
       "...              ...        ...     ...  \n",
       "9995               0   96270.64       0  \n",
       "9996               1  101699.77       0  \n",
       "9997               1   42085.58       1  \n",
       "9998               0   92888.52       1  \n",
       "9999               0   38190.78       0  \n",
       "\n",
       "[10000 rows x 13 columns]"
      ]
     },
     "execution_count": 11,
     "metadata": {},
     "output_type": "execute_result"
    }
   ],
   "source": [
    "df_churn"
   ]
  },
  {
   "cell_type": "code",
   "execution_count": 12,
   "id": "ea6adc7d",
   "metadata": {},
   "outputs": [
    {
     "data": {
      "text/plain": [
       "ID_cu                    0\n",
       "Surname                  0\n",
       "Credit_score             0\n",
       "Country                  0\n",
       "sex                      0\n",
       "Age                      0\n",
       "Tenure_with_bank_year    0\n",
       "Balance                  0\n",
       "NumOfProducts            0\n",
       "OwnCard                  0\n",
       "IsActiveMember           0\n",
       "estSalary                0\n",
       "Exited                   0\n",
       "dtype: int64"
      ]
     },
     "execution_count": 12,
     "metadata": {},
     "output_type": "execute_result"
    }
   ],
   "source": [
    "df_churn.isna().sum()# checking for null data"
   ]
  },
  {
   "cell_type": "code",
   "execution_count": null,
   "id": "adb934d9",
   "metadata": {},
   "outputs": [],
   "source": [
    "# slicing df_churn into input X and output Y,  customer ID and Surname are not relevant as such in this case"
   ]
  },
  {
   "cell_type": "code",
   "execution_count": 13,
   "id": "0f414ed8",
   "metadata": {},
   "outputs": [],
   "source": [
    "X = df_churn.iloc[:, 2:12]\n"
   ]
  },
  {
   "cell_type": "code",
   "execution_count": 14,
   "id": "feb7c5e3",
   "metadata": {},
   "outputs": [
    {
     "data": {
      "text/html": [
       "<div>\n",
       "<style scoped>\n",
       "    .dataframe tbody tr th:only-of-type {\n",
       "        vertical-align: middle;\n",
       "    }\n",
       "\n",
       "    .dataframe tbody tr th {\n",
       "        vertical-align: top;\n",
       "    }\n",
       "\n",
       "    .dataframe thead th {\n",
       "        text-align: right;\n",
       "    }\n",
       "</style>\n",
       "<table border=\"1\" class=\"dataframe\">\n",
       "  <thead>\n",
       "    <tr style=\"text-align: right;\">\n",
       "      <th></th>\n",
       "      <th>Credit_score</th>\n",
       "      <th>Country</th>\n",
       "      <th>sex</th>\n",
       "      <th>Age</th>\n",
       "      <th>Tenure_with_bank_year</th>\n",
       "      <th>Balance</th>\n",
       "      <th>NumOfProducts</th>\n",
       "      <th>OwnCard</th>\n",
       "      <th>IsActiveMember</th>\n",
       "      <th>estSalary</th>\n",
       "    </tr>\n",
       "  </thead>\n",
       "  <tbody>\n",
       "    <tr>\n",
       "      <th>0</th>\n",
       "      <td>619</td>\n",
       "      <td>France</td>\n",
       "      <td>Female</td>\n",
       "      <td>42</td>\n",
       "      <td>2</td>\n",
       "      <td>0.00</td>\n",
       "      <td>1</td>\n",
       "      <td>1</td>\n",
       "      <td>1</td>\n",
       "      <td>101348.88</td>\n",
       "    </tr>\n",
       "    <tr>\n",
       "      <th>1</th>\n",
       "      <td>608</td>\n",
       "      <td>Spain</td>\n",
       "      <td>Female</td>\n",
       "      <td>41</td>\n",
       "      <td>1</td>\n",
       "      <td>83807.86</td>\n",
       "      <td>1</td>\n",
       "      <td>0</td>\n",
       "      <td>1</td>\n",
       "      <td>112542.58</td>\n",
       "    </tr>\n",
       "    <tr>\n",
       "      <th>2</th>\n",
       "      <td>502</td>\n",
       "      <td>France</td>\n",
       "      <td>Female</td>\n",
       "      <td>42</td>\n",
       "      <td>8</td>\n",
       "      <td>159660.80</td>\n",
       "      <td>3</td>\n",
       "      <td>1</td>\n",
       "      <td>0</td>\n",
       "      <td>113931.57</td>\n",
       "    </tr>\n",
       "    <tr>\n",
       "      <th>3</th>\n",
       "      <td>699</td>\n",
       "      <td>France</td>\n",
       "      <td>Female</td>\n",
       "      <td>39</td>\n",
       "      <td>1</td>\n",
       "      <td>0.00</td>\n",
       "      <td>2</td>\n",
       "      <td>0</td>\n",
       "      <td>0</td>\n",
       "      <td>93826.63</td>\n",
       "    </tr>\n",
       "    <tr>\n",
       "      <th>4</th>\n",
       "      <td>850</td>\n",
       "      <td>Spain</td>\n",
       "      <td>Female</td>\n",
       "      <td>43</td>\n",
       "      <td>2</td>\n",
       "      <td>125510.82</td>\n",
       "      <td>1</td>\n",
       "      <td>1</td>\n",
       "      <td>1</td>\n",
       "      <td>79084.10</td>\n",
       "    </tr>\n",
       "    <tr>\n",
       "      <th>...</th>\n",
       "      <td>...</td>\n",
       "      <td>...</td>\n",
       "      <td>...</td>\n",
       "      <td>...</td>\n",
       "      <td>...</td>\n",
       "      <td>...</td>\n",
       "      <td>...</td>\n",
       "      <td>...</td>\n",
       "      <td>...</td>\n",
       "      <td>...</td>\n",
       "    </tr>\n",
       "    <tr>\n",
       "      <th>9995</th>\n",
       "      <td>771</td>\n",
       "      <td>France</td>\n",
       "      <td>Male</td>\n",
       "      <td>39</td>\n",
       "      <td>5</td>\n",
       "      <td>0.00</td>\n",
       "      <td>2</td>\n",
       "      <td>1</td>\n",
       "      <td>0</td>\n",
       "      <td>96270.64</td>\n",
       "    </tr>\n",
       "    <tr>\n",
       "      <th>9996</th>\n",
       "      <td>516</td>\n",
       "      <td>France</td>\n",
       "      <td>Male</td>\n",
       "      <td>35</td>\n",
       "      <td>10</td>\n",
       "      <td>57369.61</td>\n",
       "      <td>1</td>\n",
       "      <td>1</td>\n",
       "      <td>1</td>\n",
       "      <td>101699.77</td>\n",
       "    </tr>\n",
       "    <tr>\n",
       "      <th>9997</th>\n",
       "      <td>709</td>\n",
       "      <td>France</td>\n",
       "      <td>Female</td>\n",
       "      <td>36</td>\n",
       "      <td>7</td>\n",
       "      <td>0.00</td>\n",
       "      <td>1</td>\n",
       "      <td>0</td>\n",
       "      <td>1</td>\n",
       "      <td>42085.58</td>\n",
       "    </tr>\n",
       "    <tr>\n",
       "      <th>9998</th>\n",
       "      <td>772</td>\n",
       "      <td>Germany</td>\n",
       "      <td>Male</td>\n",
       "      <td>42</td>\n",
       "      <td>3</td>\n",
       "      <td>75075.31</td>\n",
       "      <td>2</td>\n",
       "      <td>1</td>\n",
       "      <td>0</td>\n",
       "      <td>92888.52</td>\n",
       "    </tr>\n",
       "    <tr>\n",
       "      <th>9999</th>\n",
       "      <td>792</td>\n",
       "      <td>France</td>\n",
       "      <td>Female</td>\n",
       "      <td>28</td>\n",
       "      <td>4</td>\n",
       "      <td>130142.79</td>\n",
       "      <td>1</td>\n",
       "      <td>1</td>\n",
       "      <td>0</td>\n",
       "      <td>38190.78</td>\n",
       "    </tr>\n",
       "  </tbody>\n",
       "</table>\n",
       "<p>10000 rows × 10 columns</p>\n",
       "</div>"
      ],
      "text/plain": [
       "      Credit_score  Country     sex  Age  Tenure_with_bank_year    Balance  \\\n",
       "0              619   France  Female   42                      2       0.00   \n",
       "1              608    Spain  Female   41                      1   83807.86   \n",
       "2              502   France  Female   42                      8  159660.80   \n",
       "3              699   France  Female   39                      1       0.00   \n",
       "4              850    Spain  Female   43                      2  125510.82   \n",
       "...            ...      ...     ...  ...                    ...        ...   \n",
       "9995           771   France    Male   39                      5       0.00   \n",
       "9996           516   France    Male   35                     10   57369.61   \n",
       "9997           709   France  Female   36                      7       0.00   \n",
       "9998           772  Germany    Male   42                      3   75075.31   \n",
       "9999           792   France  Female   28                      4  130142.79   \n",
       "\n",
       "      NumOfProducts  OwnCard  IsActiveMember  estSalary  \n",
       "0                 1        1               1  101348.88  \n",
       "1                 1        0               1  112542.58  \n",
       "2                 3        1               0  113931.57  \n",
       "3                 2        0               0   93826.63  \n",
       "4                 1        1               1   79084.10  \n",
       "...             ...      ...             ...        ...  \n",
       "9995              2        1               0   96270.64  \n",
       "9996              1        1               1  101699.77  \n",
       "9997              1        0               1   42085.58  \n",
       "9998              2        1               0   92888.52  \n",
       "9999              1        1               0   38190.78  \n",
       "\n",
       "[10000 rows x 10 columns]"
      ]
     },
     "execution_count": 14,
     "metadata": {},
     "output_type": "execute_result"
    }
   ],
   "source": [
    "X"
   ]
  },
  {
   "cell_type": "code",
   "execution_count": 54,
   "id": "22c9aa32",
   "metadata": {},
   "outputs": [],
   "source": [
    "Y=df_churn[df_churn.columns[-1]]"
   ]
  },
  {
   "cell_type": "code",
   "execution_count": 55,
   "id": "c96d82e0",
   "metadata": {},
   "outputs": [
    {
     "data": {
      "text/plain": [
       "0       1\n",
       "1       0\n",
       "2       1\n",
       "3       0\n",
       "4       0\n",
       "       ..\n",
       "9995    0\n",
       "9996    0\n",
       "9997    1\n",
       "9998    1\n",
       "9999    0\n",
       "Name: Exited, Length: 10000, dtype: int64"
      ]
     },
     "execution_count": 55,
     "metadata": {},
     "output_type": "execute_result"
    }
   ],
   "source": [
    "Y"
   ]
  },
  {
   "cell_type": "code",
   "execution_count": null,
   "id": "bdbb9be3",
   "metadata": {},
   "outputs": [],
   "source": [
    "# need to convert strings into numeric, there are 2 such fields sex and country"
   ]
  },
  {
   "cell_type": "code",
   "execution_count": null,
   "id": "92fb59b6",
   "metadata": {},
   "outputs": [],
   "source": [
    "X[]"
   ]
  },
  {
   "cell_type": "code",
   "execution_count": null,
   "id": "d7dff394",
   "metadata": {},
   "outputs": [],
   "source": []
  },
  {
   "cell_type": "code",
   "execution_count": 17,
   "id": "1a5ca34a",
   "metadata": {},
   "outputs": [],
   "source": [
    "\n",
    "Sex_num=pd.get_dummies(X['sex'],drop_first=True)"
   ]
  },
  {
   "cell_type": "code",
   "execution_count": 18,
   "id": "8d5f64f6",
   "metadata": {},
   "outputs": [],
   "source": [
    "X=pd.concat([X,Sex_num],axis=1)"
   ]
  },
  {
   "cell_type": "code",
   "execution_count": 19,
   "id": "eaff612e",
   "metadata": {},
   "outputs": [],
   "source": [
    "X=X.drop(['sex'],axis=1)"
   ]
  },
  {
   "cell_type": "code",
   "execution_count": 20,
   "id": "3b5c701b",
   "metadata": {},
   "outputs": [
    {
     "data": {
      "text/html": [
       "<div>\n",
       "<style scoped>\n",
       "    .dataframe tbody tr th:only-of-type {\n",
       "        vertical-align: middle;\n",
       "    }\n",
       "\n",
       "    .dataframe tbody tr th {\n",
       "        vertical-align: top;\n",
       "    }\n",
       "\n",
       "    .dataframe thead th {\n",
       "        text-align: right;\n",
       "    }\n",
       "</style>\n",
       "<table border=\"1\" class=\"dataframe\">\n",
       "  <thead>\n",
       "    <tr style=\"text-align: right;\">\n",
       "      <th></th>\n",
       "      <th>Credit_score</th>\n",
       "      <th>Country</th>\n",
       "      <th>Age</th>\n",
       "      <th>Tenure_with_bank_year</th>\n",
       "      <th>Balance</th>\n",
       "      <th>NumOfProducts</th>\n",
       "      <th>OwnCard</th>\n",
       "      <th>IsActiveMember</th>\n",
       "      <th>estSalary</th>\n",
       "      <th>Male</th>\n",
       "    </tr>\n",
       "  </thead>\n",
       "  <tbody>\n",
       "    <tr>\n",
       "      <th>0</th>\n",
       "      <td>619</td>\n",
       "      <td>France</td>\n",
       "      <td>42</td>\n",
       "      <td>2</td>\n",
       "      <td>0.00</td>\n",
       "      <td>1</td>\n",
       "      <td>1</td>\n",
       "      <td>1</td>\n",
       "      <td>101348.88</td>\n",
       "      <td>0</td>\n",
       "    </tr>\n",
       "    <tr>\n",
       "      <th>1</th>\n",
       "      <td>608</td>\n",
       "      <td>Spain</td>\n",
       "      <td>41</td>\n",
       "      <td>1</td>\n",
       "      <td>83807.86</td>\n",
       "      <td>1</td>\n",
       "      <td>0</td>\n",
       "      <td>1</td>\n",
       "      <td>112542.58</td>\n",
       "      <td>0</td>\n",
       "    </tr>\n",
       "    <tr>\n",
       "      <th>2</th>\n",
       "      <td>502</td>\n",
       "      <td>France</td>\n",
       "      <td>42</td>\n",
       "      <td>8</td>\n",
       "      <td>159660.80</td>\n",
       "      <td>3</td>\n",
       "      <td>1</td>\n",
       "      <td>0</td>\n",
       "      <td>113931.57</td>\n",
       "      <td>0</td>\n",
       "    </tr>\n",
       "    <tr>\n",
       "      <th>3</th>\n",
       "      <td>699</td>\n",
       "      <td>France</td>\n",
       "      <td>39</td>\n",
       "      <td>1</td>\n",
       "      <td>0.00</td>\n",
       "      <td>2</td>\n",
       "      <td>0</td>\n",
       "      <td>0</td>\n",
       "      <td>93826.63</td>\n",
       "      <td>0</td>\n",
       "    </tr>\n",
       "    <tr>\n",
       "      <th>4</th>\n",
       "      <td>850</td>\n",
       "      <td>Spain</td>\n",
       "      <td>43</td>\n",
       "      <td>2</td>\n",
       "      <td>125510.82</td>\n",
       "      <td>1</td>\n",
       "      <td>1</td>\n",
       "      <td>1</td>\n",
       "      <td>79084.10</td>\n",
       "      <td>0</td>\n",
       "    </tr>\n",
       "    <tr>\n",
       "      <th>...</th>\n",
       "      <td>...</td>\n",
       "      <td>...</td>\n",
       "      <td>...</td>\n",
       "      <td>...</td>\n",
       "      <td>...</td>\n",
       "      <td>...</td>\n",
       "      <td>...</td>\n",
       "      <td>...</td>\n",
       "      <td>...</td>\n",
       "      <td>...</td>\n",
       "    </tr>\n",
       "    <tr>\n",
       "      <th>9995</th>\n",
       "      <td>771</td>\n",
       "      <td>France</td>\n",
       "      <td>39</td>\n",
       "      <td>5</td>\n",
       "      <td>0.00</td>\n",
       "      <td>2</td>\n",
       "      <td>1</td>\n",
       "      <td>0</td>\n",
       "      <td>96270.64</td>\n",
       "      <td>1</td>\n",
       "    </tr>\n",
       "    <tr>\n",
       "      <th>9996</th>\n",
       "      <td>516</td>\n",
       "      <td>France</td>\n",
       "      <td>35</td>\n",
       "      <td>10</td>\n",
       "      <td>57369.61</td>\n",
       "      <td>1</td>\n",
       "      <td>1</td>\n",
       "      <td>1</td>\n",
       "      <td>101699.77</td>\n",
       "      <td>1</td>\n",
       "    </tr>\n",
       "    <tr>\n",
       "      <th>9997</th>\n",
       "      <td>709</td>\n",
       "      <td>France</td>\n",
       "      <td>36</td>\n",
       "      <td>7</td>\n",
       "      <td>0.00</td>\n",
       "      <td>1</td>\n",
       "      <td>0</td>\n",
       "      <td>1</td>\n",
       "      <td>42085.58</td>\n",
       "      <td>0</td>\n",
       "    </tr>\n",
       "    <tr>\n",
       "      <th>9998</th>\n",
       "      <td>772</td>\n",
       "      <td>Germany</td>\n",
       "      <td>42</td>\n",
       "      <td>3</td>\n",
       "      <td>75075.31</td>\n",
       "      <td>2</td>\n",
       "      <td>1</td>\n",
       "      <td>0</td>\n",
       "      <td>92888.52</td>\n",
       "      <td>1</td>\n",
       "    </tr>\n",
       "    <tr>\n",
       "      <th>9999</th>\n",
       "      <td>792</td>\n",
       "      <td>France</td>\n",
       "      <td>28</td>\n",
       "      <td>4</td>\n",
       "      <td>130142.79</td>\n",
       "      <td>1</td>\n",
       "      <td>1</td>\n",
       "      <td>0</td>\n",
       "      <td>38190.78</td>\n",
       "      <td>0</td>\n",
       "    </tr>\n",
       "  </tbody>\n",
       "</table>\n",
       "<p>10000 rows × 10 columns</p>\n",
       "</div>"
      ],
      "text/plain": [
       "      Credit_score  Country  Age  Tenure_with_bank_year    Balance  \\\n",
       "0              619   France   42                      2       0.00   \n",
       "1              608    Spain   41                      1   83807.86   \n",
       "2              502   France   42                      8  159660.80   \n",
       "3              699   France   39                      1       0.00   \n",
       "4              850    Spain   43                      2  125510.82   \n",
       "...            ...      ...  ...                    ...        ...   \n",
       "9995           771   France   39                      5       0.00   \n",
       "9996           516   France   35                     10   57369.61   \n",
       "9997           709   France   36                      7       0.00   \n",
       "9998           772  Germany   42                      3   75075.31   \n",
       "9999           792   France   28                      4  130142.79   \n",
       "\n",
       "      NumOfProducts  OwnCard  IsActiveMember  estSalary  Male  \n",
       "0                 1        1               1  101348.88     0  \n",
       "1                 1        0               1  112542.58     0  \n",
       "2                 3        1               0  113931.57     0  \n",
       "3                 2        0               0   93826.63     0  \n",
       "4                 1        1               1   79084.10     0  \n",
       "...             ...      ...             ...        ...   ...  \n",
       "9995              2        1               0   96270.64     1  \n",
       "9996              1        1               1  101699.77     1  \n",
       "9997              1        0               1   42085.58     0  \n",
       "9998              2        1               0   92888.52     1  \n",
       "9999              1        1               0   38190.78     0  \n",
       "\n",
       "[10000 rows x 10 columns]"
      ]
     },
     "execution_count": 20,
     "metadata": {},
     "output_type": "execute_result"
    }
   ],
   "source": [
    "X"
   ]
  },
  {
   "cell_type": "code",
   "execution_count": 21,
   "id": "bbaff351",
   "metadata": {},
   "outputs": [],
   "source": [
    "country_num=pd.get_dummies(X[\"Country\"],drop_first=True)"
   ]
  },
  {
   "cell_type": "code",
   "execution_count": 22,
   "id": "2aeda4f3",
   "metadata": {},
   "outputs": [],
   "source": [
    "X=pd.concat([X,country_num],axis=1)"
   ]
  },
  {
   "cell_type": "code",
   "execution_count": 23,
   "id": "c7644259",
   "metadata": {},
   "outputs": [],
   "source": [
    "X=X.drop(['Country'],axis=1)"
   ]
  },
  {
   "cell_type": "code",
   "execution_count": 24,
   "id": "5c787515",
   "metadata": {},
   "outputs": [
    {
     "data": {
      "text/html": [
       "<div>\n",
       "<style scoped>\n",
       "    .dataframe tbody tr th:only-of-type {\n",
       "        vertical-align: middle;\n",
       "    }\n",
       "\n",
       "    .dataframe tbody tr th {\n",
       "        vertical-align: top;\n",
       "    }\n",
       "\n",
       "    .dataframe thead th {\n",
       "        text-align: right;\n",
       "    }\n",
       "</style>\n",
       "<table border=\"1\" class=\"dataframe\">\n",
       "  <thead>\n",
       "    <tr style=\"text-align: right;\">\n",
       "      <th></th>\n",
       "      <th>Credit_score</th>\n",
       "      <th>Age</th>\n",
       "      <th>Tenure_with_bank_year</th>\n",
       "      <th>Balance</th>\n",
       "      <th>NumOfProducts</th>\n",
       "      <th>OwnCard</th>\n",
       "      <th>IsActiveMember</th>\n",
       "      <th>estSalary</th>\n",
       "      <th>Male</th>\n",
       "      <th>Germany</th>\n",
       "      <th>Spain</th>\n",
       "    </tr>\n",
       "  </thead>\n",
       "  <tbody>\n",
       "    <tr>\n",
       "      <th>0</th>\n",
       "      <td>619</td>\n",
       "      <td>42</td>\n",
       "      <td>2</td>\n",
       "      <td>0.00</td>\n",
       "      <td>1</td>\n",
       "      <td>1</td>\n",
       "      <td>1</td>\n",
       "      <td>101348.88</td>\n",
       "      <td>0</td>\n",
       "      <td>0</td>\n",
       "      <td>0</td>\n",
       "    </tr>\n",
       "    <tr>\n",
       "      <th>1</th>\n",
       "      <td>608</td>\n",
       "      <td>41</td>\n",
       "      <td>1</td>\n",
       "      <td>83807.86</td>\n",
       "      <td>1</td>\n",
       "      <td>0</td>\n",
       "      <td>1</td>\n",
       "      <td>112542.58</td>\n",
       "      <td>0</td>\n",
       "      <td>0</td>\n",
       "      <td>1</td>\n",
       "    </tr>\n",
       "    <tr>\n",
       "      <th>2</th>\n",
       "      <td>502</td>\n",
       "      <td>42</td>\n",
       "      <td>8</td>\n",
       "      <td>159660.80</td>\n",
       "      <td>3</td>\n",
       "      <td>1</td>\n",
       "      <td>0</td>\n",
       "      <td>113931.57</td>\n",
       "      <td>0</td>\n",
       "      <td>0</td>\n",
       "      <td>0</td>\n",
       "    </tr>\n",
       "    <tr>\n",
       "      <th>3</th>\n",
       "      <td>699</td>\n",
       "      <td>39</td>\n",
       "      <td>1</td>\n",
       "      <td>0.00</td>\n",
       "      <td>2</td>\n",
       "      <td>0</td>\n",
       "      <td>0</td>\n",
       "      <td>93826.63</td>\n",
       "      <td>0</td>\n",
       "      <td>0</td>\n",
       "      <td>0</td>\n",
       "    </tr>\n",
       "    <tr>\n",
       "      <th>4</th>\n",
       "      <td>850</td>\n",
       "      <td>43</td>\n",
       "      <td>2</td>\n",
       "      <td>125510.82</td>\n",
       "      <td>1</td>\n",
       "      <td>1</td>\n",
       "      <td>1</td>\n",
       "      <td>79084.10</td>\n",
       "      <td>0</td>\n",
       "      <td>0</td>\n",
       "      <td>1</td>\n",
       "    </tr>\n",
       "    <tr>\n",
       "      <th>...</th>\n",
       "      <td>...</td>\n",
       "      <td>...</td>\n",
       "      <td>...</td>\n",
       "      <td>...</td>\n",
       "      <td>...</td>\n",
       "      <td>...</td>\n",
       "      <td>...</td>\n",
       "      <td>...</td>\n",
       "      <td>...</td>\n",
       "      <td>...</td>\n",
       "      <td>...</td>\n",
       "    </tr>\n",
       "    <tr>\n",
       "      <th>9995</th>\n",
       "      <td>771</td>\n",
       "      <td>39</td>\n",
       "      <td>5</td>\n",
       "      <td>0.00</td>\n",
       "      <td>2</td>\n",
       "      <td>1</td>\n",
       "      <td>0</td>\n",
       "      <td>96270.64</td>\n",
       "      <td>1</td>\n",
       "      <td>0</td>\n",
       "      <td>0</td>\n",
       "    </tr>\n",
       "    <tr>\n",
       "      <th>9996</th>\n",
       "      <td>516</td>\n",
       "      <td>35</td>\n",
       "      <td>10</td>\n",
       "      <td>57369.61</td>\n",
       "      <td>1</td>\n",
       "      <td>1</td>\n",
       "      <td>1</td>\n",
       "      <td>101699.77</td>\n",
       "      <td>1</td>\n",
       "      <td>0</td>\n",
       "      <td>0</td>\n",
       "    </tr>\n",
       "    <tr>\n",
       "      <th>9997</th>\n",
       "      <td>709</td>\n",
       "      <td>36</td>\n",
       "      <td>7</td>\n",
       "      <td>0.00</td>\n",
       "      <td>1</td>\n",
       "      <td>0</td>\n",
       "      <td>1</td>\n",
       "      <td>42085.58</td>\n",
       "      <td>0</td>\n",
       "      <td>0</td>\n",
       "      <td>0</td>\n",
       "    </tr>\n",
       "    <tr>\n",
       "      <th>9998</th>\n",
       "      <td>772</td>\n",
       "      <td>42</td>\n",
       "      <td>3</td>\n",
       "      <td>75075.31</td>\n",
       "      <td>2</td>\n",
       "      <td>1</td>\n",
       "      <td>0</td>\n",
       "      <td>92888.52</td>\n",
       "      <td>1</td>\n",
       "      <td>1</td>\n",
       "      <td>0</td>\n",
       "    </tr>\n",
       "    <tr>\n",
       "      <th>9999</th>\n",
       "      <td>792</td>\n",
       "      <td>28</td>\n",
       "      <td>4</td>\n",
       "      <td>130142.79</td>\n",
       "      <td>1</td>\n",
       "      <td>1</td>\n",
       "      <td>0</td>\n",
       "      <td>38190.78</td>\n",
       "      <td>0</td>\n",
       "      <td>0</td>\n",
       "      <td>0</td>\n",
       "    </tr>\n",
       "  </tbody>\n",
       "</table>\n",
       "<p>10000 rows × 11 columns</p>\n",
       "</div>"
      ],
      "text/plain": [
       "      Credit_score  Age  Tenure_with_bank_year    Balance  NumOfProducts  \\\n",
       "0              619   42                      2       0.00              1   \n",
       "1              608   41                      1   83807.86              1   \n",
       "2              502   42                      8  159660.80              3   \n",
       "3              699   39                      1       0.00              2   \n",
       "4              850   43                      2  125510.82              1   \n",
       "...            ...  ...                    ...        ...            ...   \n",
       "9995           771   39                      5       0.00              2   \n",
       "9996           516   35                     10   57369.61              1   \n",
       "9997           709   36                      7       0.00              1   \n",
       "9998           772   42                      3   75075.31              2   \n",
       "9999           792   28                      4  130142.79              1   \n",
       "\n",
       "      OwnCard  IsActiveMember  estSalary  Male  Germany  Spain  \n",
       "0           1               1  101348.88     0        0      0  \n",
       "1           0               1  112542.58     0        0      1  \n",
       "2           1               0  113931.57     0        0      0  \n",
       "3           0               0   93826.63     0        0      0  \n",
       "4           1               1   79084.10     0        0      1  \n",
       "...       ...             ...        ...   ...      ...    ...  \n",
       "9995        1               0   96270.64     1        0      0  \n",
       "9996        1               1  101699.77     1        0      0  \n",
       "9997        0               1   42085.58     0        0      0  \n",
       "9998        1               0   92888.52     1        1      0  \n",
       "9999        1               0   38190.78     0        0      0  \n",
       "\n",
       "[10000 rows x 11 columns]"
      ]
     },
     "execution_count": 24,
     "metadata": {},
     "output_type": "execute_result"
    }
   ],
   "source": [
    "X"
   ]
  },
  {
   "cell_type": "code",
   "execution_count": 28,
   "id": "1703637d",
   "metadata": {},
   "outputs": [
    {
     "data": {
      "text/plain": [
       "37    478\n",
       "38    477\n",
       "35    474\n",
       "36    456\n",
       "34    447\n",
       "     ... \n",
       "92      2\n",
       "82      1\n",
       "88      1\n",
       "85      1\n",
       "83      1\n",
       "Name: Age, Length: 70, dtype: int64"
      ]
     },
     "execution_count": 28,
     "metadata": {},
     "output_type": "execute_result"
    }
   ],
   "source": [
    "X['Age'].value_counts()"
   ]
  },
  {
   "cell_type": "code",
   "execution_count": 47,
   "id": "aa6cbc24",
   "metadata": {
    "scrolled": false
   },
   "outputs": [
    {
     "data": {
      "text/plain": [
       "0    7963\n",
       "1    2037\n",
       "Name: Exited, dtype: int64"
      ]
     },
     "execution_count": 47,
     "metadata": {},
     "output_type": "execute_result"
    }
   ],
   "source": [
    "Y.value_counts()  # 2 values so logistic regression can also be used"
   ]
  },
  {
   "cell_type": "code",
   "execution_count": 30,
   "id": "b052a0d1",
   "metadata": {},
   "outputs": [],
   "source": [
    "X_train, X_test, y_train, y_test = train_test_split(X, Y, test_size = 0.3, random_state = 0)\n",
    "# train test split with 30%\n",
    "\n"
   ]
  },
  {
   "cell_type": "code",
   "execution_count": 31,
   "id": "7d588222",
   "metadata": {},
   "outputs": [
    {
     "data": {
      "text/html": [
       "<div>\n",
       "<style scoped>\n",
       "    .dataframe tbody tr th:only-of-type {\n",
       "        vertical-align: middle;\n",
       "    }\n",
       "\n",
       "    .dataframe tbody tr th {\n",
       "        vertical-align: top;\n",
       "    }\n",
       "\n",
       "    .dataframe thead th {\n",
       "        text-align: right;\n",
       "    }\n",
       "</style>\n",
       "<table border=\"1\" class=\"dataframe\">\n",
       "  <thead>\n",
       "    <tr style=\"text-align: right;\">\n",
       "      <th></th>\n",
       "      <th>Credit_score</th>\n",
       "      <th>Age</th>\n",
       "      <th>Tenure_with_bank_year</th>\n",
       "      <th>Balance</th>\n",
       "      <th>NumOfProducts</th>\n",
       "      <th>OwnCard</th>\n",
       "      <th>IsActiveMember</th>\n",
       "      <th>estSalary</th>\n",
       "      <th>Male</th>\n",
       "      <th>Germany</th>\n",
       "      <th>Spain</th>\n",
       "    </tr>\n",
       "  </thead>\n",
       "  <tbody>\n",
       "    <tr>\n",
       "      <th>7681</th>\n",
       "      <td>641</td>\n",
       "      <td>33</td>\n",
       "      <td>2</td>\n",
       "      <td>146193.60</td>\n",
       "      <td>2</td>\n",
       "      <td>1</td>\n",
       "      <td>1</td>\n",
       "      <td>55796.83</td>\n",
       "      <td>1</td>\n",
       "      <td>0</td>\n",
       "      <td>0</td>\n",
       "    </tr>\n",
       "    <tr>\n",
       "      <th>9031</th>\n",
       "      <td>541</td>\n",
       "      <td>39</td>\n",
       "      <td>7</td>\n",
       "      <td>0.00</td>\n",
       "      <td>2</td>\n",
       "      <td>1</td>\n",
       "      <td>0</td>\n",
       "      <td>19823.02</td>\n",
       "      <td>1</td>\n",
       "      <td>0</td>\n",
       "      <td>0</td>\n",
       "    </tr>\n",
       "    <tr>\n",
       "      <th>3691</th>\n",
       "      <td>590</td>\n",
       "      <td>76</td>\n",
       "      <td>5</td>\n",
       "      <td>160979.68</td>\n",
       "      <td>1</td>\n",
       "      <td>0</td>\n",
       "      <td>1</td>\n",
       "      <td>13848.58</td>\n",
       "      <td>0</td>\n",
       "      <td>0</td>\n",
       "      <td>0</td>\n",
       "    </tr>\n",
       "    <tr>\n",
       "      <th>202</th>\n",
       "      <td>516</td>\n",
       "      <td>50</td>\n",
       "      <td>5</td>\n",
       "      <td>0.00</td>\n",
       "      <td>1</td>\n",
       "      <td>0</td>\n",
       "      <td>1</td>\n",
       "      <td>146145.93</td>\n",
       "      <td>1</td>\n",
       "      <td>0</td>\n",
       "      <td>1</td>\n",
       "    </tr>\n",
       "    <tr>\n",
       "      <th>5625</th>\n",
       "      <td>508</td>\n",
       "      <td>60</td>\n",
       "      <td>7</td>\n",
       "      <td>143262.04</td>\n",
       "      <td>1</td>\n",
       "      <td>1</td>\n",
       "      <td>1</td>\n",
       "      <td>129562.74</td>\n",
       "      <td>0</td>\n",
       "      <td>0</td>\n",
       "      <td>0</td>\n",
       "    </tr>\n",
       "    <tr>\n",
       "      <th>...</th>\n",
       "      <td>...</td>\n",
       "      <td>...</td>\n",
       "      <td>...</td>\n",
       "      <td>...</td>\n",
       "      <td>...</td>\n",
       "      <td>...</td>\n",
       "      <td>...</td>\n",
       "      <td>...</td>\n",
       "      <td>...</td>\n",
       "      <td>...</td>\n",
       "      <td>...</td>\n",
       "    </tr>\n",
       "    <tr>\n",
       "      <th>9225</th>\n",
       "      <td>594</td>\n",
       "      <td>32</td>\n",
       "      <td>4</td>\n",
       "      <td>120074.97</td>\n",
       "      <td>2</td>\n",
       "      <td>1</td>\n",
       "      <td>1</td>\n",
       "      <td>162961.79</td>\n",
       "      <td>0</td>\n",
       "      <td>1</td>\n",
       "      <td>0</td>\n",
       "    </tr>\n",
       "    <tr>\n",
       "      <th>4859</th>\n",
       "      <td>794</td>\n",
       "      <td>22</td>\n",
       "      <td>4</td>\n",
       "      <td>114440.24</td>\n",
       "      <td>1</td>\n",
       "      <td>1</td>\n",
       "      <td>1</td>\n",
       "      <td>107753.07</td>\n",
       "      <td>0</td>\n",
       "      <td>0</td>\n",
       "      <td>1</td>\n",
       "    </tr>\n",
       "    <tr>\n",
       "      <th>3264</th>\n",
       "      <td>738</td>\n",
       "      <td>35</td>\n",
       "      <td>5</td>\n",
       "      <td>161274.05</td>\n",
       "      <td>2</td>\n",
       "      <td>1</td>\n",
       "      <td>0</td>\n",
       "      <td>181429.87</td>\n",
       "      <td>1</td>\n",
       "      <td>0</td>\n",
       "      <td>0</td>\n",
       "    </tr>\n",
       "    <tr>\n",
       "      <th>9845</th>\n",
       "      <td>590</td>\n",
       "      <td>38</td>\n",
       "      <td>9</td>\n",
       "      <td>0.00</td>\n",
       "      <td>2</td>\n",
       "      <td>1</td>\n",
       "      <td>1</td>\n",
       "      <td>148750.16</td>\n",
       "      <td>0</td>\n",
       "      <td>0</td>\n",
       "      <td>1</td>\n",
       "    </tr>\n",
       "    <tr>\n",
       "      <th>2732</th>\n",
       "      <td>623</td>\n",
       "      <td>48</td>\n",
       "      <td>1</td>\n",
       "      <td>108076.33</td>\n",
       "      <td>1</td>\n",
       "      <td>1</td>\n",
       "      <td>0</td>\n",
       "      <td>118855.26</td>\n",
       "      <td>0</td>\n",
       "      <td>1</td>\n",
       "      <td>0</td>\n",
       "    </tr>\n",
       "  </tbody>\n",
       "</table>\n",
       "<p>7000 rows × 11 columns</p>\n",
       "</div>"
      ],
      "text/plain": [
       "      Credit_score  Age  Tenure_with_bank_year    Balance  NumOfProducts  \\\n",
       "7681           641   33                      2  146193.60              2   \n",
       "9031           541   39                      7       0.00              2   \n",
       "3691           590   76                      5  160979.68              1   \n",
       "202            516   50                      5       0.00              1   \n",
       "5625           508   60                      7  143262.04              1   \n",
       "...            ...  ...                    ...        ...            ...   \n",
       "9225           594   32                      4  120074.97              2   \n",
       "4859           794   22                      4  114440.24              1   \n",
       "3264           738   35                      5  161274.05              2   \n",
       "9845           590   38                      9       0.00              2   \n",
       "2732           623   48                      1  108076.33              1   \n",
       "\n",
       "      OwnCard  IsActiveMember  estSalary  Male  Germany  Spain  \n",
       "7681        1               1   55796.83     1        0      0  \n",
       "9031        1               0   19823.02     1        0      0  \n",
       "3691        0               1   13848.58     0        0      0  \n",
       "202         0               1  146145.93     1        0      1  \n",
       "5625        1               1  129562.74     0        0      0  \n",
       "...       ...             ...        ...   ...      ...    ...  \n",
       "9225        1               1  162961.79     0        1      0  \n",
       "4859        1               1  107753.07     0        0      1  \n",
       "3264        1               0  181429.87     1        0      0  \n",
       "9845        1               1  148750.16     0        0      1  \n",
       "2732        1               0  118855.26     0        1      0  \n",
       "\n",
       "[7000 rows x 11 columns]"
      ]
     },
     "execution_count": 31,
     "metadata": {},
     "output_type": "execute_result"
    }
   ],
   "source": [
    "X_train"
   ]
  },
  {
   "cell_type": "code",
   "execution_count": 34,
   "id": "9826c55c",
   "metadata": {},
   "outputs": [
    {
     "data": {
      "text/plain": [
       "199992.48"
      ]
     },
     "execution_count": 34,
     "metadata": {},
     "output_type": "execute_result"
    }
   ],
   "source": [
    "X['estSalary'].max()\n"
   ]
  },
  {
   "cell_type": "code",
   "execution_count": 35,
   "id": "1ed980b0",
   "metadata": {},
   "outputs": [
    {
     "data": {
      "text/plain": [
       "11.58"
      ]
     },
     "execution_count": 35,
     "metadata": {},
     "output_type": "execute_result"
    }
   ],
   "source": [
    "X['estSalary'].min()"
   ]
  },
  {
   "cell_type": "code",
   "execution_count": 36,
   "id": "0e63cffb",
   "metadata": {},
   "outputs": [
    {
     "data": {
      "text/plain": [
       "250898.09"
      ]
     },
     "execution_count": 36,
     "metadata": {},
     "output_type": "execute_result"
    }
   ],
   "source": [
    "X['Balance'].max()"
   ]
  },
  {
   "cell_type": "code",
   "execution_count": 37,
   "id": "33c9fb19",
   "metadata": {},
   "outputs": [
    {
     "data": {
      "text/plain": [
       "0.0"
      ]
     },
     "execution_count": 37,
     "metadata": {},
     "output_type": "execute_result"
    }
   ],
   "source": [
    "X['Balance'].min()"
   ]
  },
  {
   "cell_type": "code",
   "execution_count": 40,
   "id": "88881547",
   "metadata": {},
   "outputs": [],
   "source": [
    "#range of salary and Balance is large , so need to do scaling\n",
    "scaled_value = StandardScaler()\n",
    "X_train = scaled_value.fit_transform(X_train)\n",
    "X_test = scaled_value.transform(X_test)"
   ]
  },
  {
   "cell_type": "code",
   "execution_count": null,
   "id": "3d4bd992",
   "metadata": {},
   "outputs": [],
   "source": []
  },
  {
   "cell_type": "markdown",
   "id": "f521e994",
   "metadata": {},
   "source": [
    "# ----Model 1 - logistic regression--"
   ]
  },
  {
   "cell_type": "code",
   "execution_count": 128,
   "id": "5e67e2da",
   "metadata": {},
   "outputs": [],
   "source": [
    "# model 1 using logistic regression\n",
    "\n",
    "from sklearn.linear_model import LogisticRegression\n",
    "from sklearn.metrics import confusion_matrix, accuracy_score\n",
    "import matplotlib.pyplot as plt"
   ]
  },
  {
   "cell_type": "code",
   "execution_count": 169,
   "id": "c53d2d59",
   "metadata": {},
   "outputs": [],
   "source": [
    "model1= LogisticRegression()"
   ]
  },
  {
   "cell_type": "code",
   "execution_count": 170,
   "id": "c336c1ca",
   "metadata": {
    "scrolled": false
   },
   "outputs": [
    {
     "data": {
      "text/html": [
       "<style>#sk-container-id-17 {color: black;background-color: white;}#sk-container-id-17 pre{padding: 0;}#sk-container-id-17 div.sk-toggleable {background-color: white;}#sk-container-id-17 label.sk-toggleable__label {cursor: pointer;display: block;width: 100%;margin-bottom: 0;padding: 0.3em;box-sizing: border-box;text-align: center;}#sk-container-id-17 label.sk-toggleable__label-arrow:before {content: \"▸\";float: left;margin-right: 0.25em;color: #696969;}#sk-container-id-17 label.sk-toggleable__label-arrow:hover:before {color: black;}#sk-container-id-17 div.sk-estimator:hover label.sk-toggleable__label-arrow:before {color: black;}#sk-container-id-17 div.sk-toggleable__content {max-height: 0;max-width: 0;overflow: hidden;text-align: left;background-color: #f0f8ff;}#sk-container-id-17 div.sk-toggleable__content pre {margin: 0.2em;color: black;border-radius: 0.25em;background-color: #f0f8ff;}#sk-container-id-17 input.sk-toggleable__control:checked~div.sk-toggleable__content {max-height: 200px;max-width: 100%;overflow: auto;}#sk-container-id-17 input.sk-toggleable__control:checked~label.sk-toggleable__label-arrow:before {content: \"▾\";}#sk-container-id-17 div.sk-estimator input.sk-toggleable__control:checked~label.sk-toggleable__label {background-color: #d4ebff;}#sk-container-id-17 div.sk-label input.sk-toggleable__control:checked~label.sk-toggleable__label {background-color: #d4ebff;}#sk-container-id-17 input.sk-hidden--visually {border: 0;clip: rect(1px 1px 1px 1px);clip: rect(1px, 1px, 1px, 1px);height: 1px;margin: -1px;overflow: hidden;padding: 0;position: absolute;width: 1px;}#sk-container-id-17 div.sk-estimator {font-family: monospace;background-color: #f0f8ff;border: 1px dotted black;border-radius: 0.25em;box-sizing: border-box;margin-bottom: 0.5em;}#sk-container-id-17 div.sk-estimator:hover {background-color: #d4ebff;}#sk-container-id-17 div.sk-parallel-item::after {content: \"\";width: 100%;border-bottom: 1px solid gray;flex-grow: 1;}#sk-container-id-17 div.sk-label:hover label.sk-toggleable__label {background-color: #d4ebff;}#sk-container-id-17 div.sk-serial::before {content: \"\";position: absolute;border-left: 1px solid gray;box-sizing: border-box;top: 0;bottom: 0;left: 50%;z-index: 0;}#sk-container-id-17 div.sk-serial {display: flex;flex-direction: column;align-items: center;background-color: white;padding-right: 0.2em;padding-left: 0.2em;position: relative;}#sk-container-id-17 div.sk-item {position: relative;z-index: 1;}#sk-container-id-17 div.sk-parallel {display: flex;align-items: stretch;justify-content: center;background-color: white;position: relative;}#sk-container-id-17 div.sk-item::before, #sk-container-id-17 div.sk-parallel-item::before {content: \"\";position: absolute;border-left: 1px solid gray;box-sizing: border-box;top: 0;bottom: 0;left: 50%;z-index: -1;}#sk-container-id-17 div.sk-parallel-item {display: flex;flex-direction: column;z-index: 1;position: relative;background-color: white;}#sk-container-id-17 div.sk-parallel-item:first-child::after {align-self: flex-end;width: 50%;}#sk-container-id-17 div.sk-parallel-item:last-child::after {align-self: flex-start;width: 50%;}#sk-container-id-17 div.sk-parallel-item:only-child::after {width: 0;}#sk-container-id-17 div.sk-dashed-wrapped {border: 1px dashed gray;margin: 0 0.4em 0.5em 0.4em;box-sizing: border-box;padding-bottom: 0.4em;background-color: white;}#sk-container-id-17 div.sk-label label {font-family: monospace;font-weight: bold;display: inline-block;line-height: 1.2em;}#sk-container-id-17 div.sk-label-container {text-align: center;}#sk-container-id-17 div.sk-container {/* jupyter's `normalize.less` sets `[hidden] { display: none; }` but bootstrap.min.css set `[hidden] { display: none !important; }` so we also need the `!important` here to be able to override the default hidden behavior on the sphinx rendered scikit-learn.org. See: https://github.com/scikit-learn/scikit-learn/issues/21755 */display: inline-block !important;position: relative;}#sk-container-id-17 div.sk-text-repr-fallback {display: none;}</style><div id=\"sk-container-id-17\" class=\"sk-top-container\"><div class=\"sk-text-repr-fallback\"><pre>LogisticRegression()</pre><b>In a Jupyter environment, please rerun this cell to show the HTML representation or trust the notebook. <br />On GitHub, the HTML representation is unable to render, please try loading this page with nbviewer.org.</b></div><div class=\"sk-container\" hidden><div class=\"sk-item\"><div class=\"sk-estimator sk-toggleable\"><input class=\"sk-toggleable__control sk-hidden--visually\" id=\"sk-estimator-id-17\" type=\"checkbox\" checked><label for=\"sk-estimator-id-17\" class=\"sk-toggleable__label sk-toggleable__label-arrow\">LogisticRegression</label><div class=\"sk-toggleable__content\"><pre>LogisticRegression()</pre></div></div></div></div></div>"
      ],
      "text/plain": [
       "LogisticRegression()"
      ]
     },
     "execution_count": 170,
     "metadata": {},
     "output_type": "execute_result"
    }
   ],
   "source": [
    "model1.fit(X_train,y_train)# fitting X train and yTrain to Logistic regression"
   ]
  },
  {
   "cell_type": "code",
   "execution_count": 171,
   "id": "d585c528",
   "metadata": {},
   "outputs": [],
   "source": [
    "y_pred_log=model1.predict(X_test)"
   ]
  },
  {
   "cell_type": "code",
   "execution_count": 173,
   "id": "b25b9c7c",
   "metadata": {
    "scrolled": true
   },
   "outputs": [
    {
     "data": {
      "text/plain": [
       "array([[2278,  101],\n",
       "       [ 479,  142]])"
      ]
     },
     "execution_count": 173,
     "metadata": {},
     "output_type": "execute_result"
    }
   ],
   "source": [
    "Cm_logreg= confusion_matrix(y_test, y_pred_log)\n",
    "Cm_logreg"
   ]
  },
  {
   "cell_type": "code",
   "execution_count": 168,
   "id": "4f51a9ac",
   "metadata": {
    "scrolled": false
   },
   "outputs": [
    {
     "data": {
      "text/plain": [
       "0.8066666666666666"
      ]
     },
     "execution_count": 168,
     "metadata": {},
     "output_type": "execute_result"
    }
   ],
   "source": [
    "model1.score(X_test,y_test)"
   ]
  },
  {
   "cell_type": "markdown",
   "id": "5c50b193",
   "metadata": {},
   "source": [
    "Score of logistic regression is 80.66%"
   ]
  },
  {
   "cell_type": "code",
   "execution_count": null,
   "id": "ccf2fdf4",
   "metadata": {},
   "outputs": [],
   "source": []
  },
  {
   "cell_type": "markdown",
   "id": "99525f26",
   "metadata": {},
   "source": [
    "# ---- Model 2-   Neuron network ----"
   ]
  },
  {
   "cell_type": "code",
   "execution_count": 134,
   "id": "6839384b",
   "metadata": {},
   "outputs": [],
   "source": [
    "\n",
    "from tensorflow.keras.layers import Dense\n",
    "from tensorflow.keras.models import Sequential\n",
    "\n"
   ]
  },
  {
   "cell_type": "code",
   "execution_count": 136,
   "id": "b22b7817",
   "metadata": {},
   "outputs": [],
   "source": [
    "from tensorflow.keras.layers import LeakyReLU,PReLU"
   ]
  },
  {
   "cell_type": "code",
   "execution_count": 137,
   "id": "cb12960f",
   "metadata": {},
   "outputs": [],
   "source": [
    "from tensorflow.keras.layers import Dropout"
   ]
  },
  {
   "cell_type": "code",
   "execution_count": 183,
   "id": "b7cd503a",
   "metadata": {},
   "outputs": [],
   "source": [
    "Model2 = Sequential()"
   ]
  },
  {
   "cell_type": "code",
   "execution_count": 184,
   "id": "a292757f",
   "metadata": {},
   "outputs": [],
   "source": [
    "# there. are 11 input , next layer considering 8 nodes and output 1 node\n",
    "\n",
    "Model2.add(Dense(units=11,activation='relu'))"
   ]
  },
  {
   "cell_type": "code",
   "execution_count": 185,
   "id": "97270fa6",
   "metadata": {},
   "outputs": [],
   "source": [
    "Model2.add(Dense(units=8,activation='relu'))"
   ]
  },
  {
   "cell_type": "code",
   "execution_count": null,
   "id": "78151691",
   "metadata": {},
   "outputs": [],
   "source": []
  },
  {
   "cell_type": "code",
   "execution_count": 186,
   "id": "35848b56",
   "metadata": {},
   "outputs": [],
   "source": [
    "Model2.add(Dense(units=1,activation='relu'))"
   ]
  },
  {
   "cell_type": "code",
   "execution_count": 187,
   "id": "003152a5",
   "metadata": {},
   "outputs": [],
   "source": [
    "Model2.compile(\n",
    "              loss='binary_crossentropy',optimizer='adam',\n",
    "              metrics=['accuracy'])"
   ]
  },
  {
   "cell_type": "code",
   "execution_count": 188,
   "id": "1bc6140d",
   "metadata": {},
   "outputs": [
    {
     "name": "stdout",
     "output_type": "stream",
     "text": [
      "Epoch 1/10\n",
      "525/525 [==============================] - 1s 2ms/step - loss: 1.2072 - accuracy: 0.7589 - val_loss: 0.6619 - val_accuracy: 0.7686\n",
      "Epoch 2/10\n",
      "525/525 [==============================] - 1s 2ms/step - loss: 0.6256 - accuracy: 0.7882 - val_loss: 0.5428 - val_accuracy: 0.8051\n",
      "Epoch 3/10\n",
      "525/525 [==============================] - 1s 2ms/step - loss: 0.5278 - accuracy: 0.8036 - val_loss: 0.5284 - val_accuracy: 0.8194\n",
      "Epoch 4/10\n",
      "525/525 [==============================] - 1s 2ms/step - loss: 0.4950 - accuracy: 0.8164 - val_loss: 0.4911 - val_accuracy: 0.8206\n",
      "Epoch 5/10\n",
      "525/525 [==============================] - 1s 2ms/step - loss: 0.4603 - accuracy: 0.8244 - val_loss: 0.4750 - val_accuracy: 0.8200\n",
      "Epoch 6/10\n",
      "525/525 [==============================] - 1s 2ms/step - loss: 0.4314 - accuracy: 0.8293 - val_loss: 0.4645 - val_accuracy: 0.8223\n",
      "Epoch 7/10\n",
      "525/525 [==============================] - 1s 2ms/step - loss: 0.4246 - accuracy: 0.8265 - val_loss: 0.4455 - val_accuracy: 0.8240\n",
      "Epoch 8/10\n",
      "525/525 [==============================] - 1s 2ms/step - loss: 0.4123 - accuracy: 0.8291 - val_loss: 0.4416 - val_accuracy: 0.8240\n",
      "Epoch 9/10\n",
      "525/525 [==============================] - 1s 2ms/step - loss: 0.4021 - accuracy: 0.8356 - val_loss: 0.4344 - val_accuracy: 0.8291\n",
      "Epoch 10/10\n",
      "525/525 [==============================] - 1s 2ms/step - loss: 0.3955 - accuracy: 0.8381 - val_loss: 0.4352 - val_accuracy: 0.8360\n"
     ]
    }
   ],
   "source": [
    "internal_model=Model2.fit(X_train,y_train,validation_split=0.25,batch_size=10,epochs=10)# with less epoch and batch 10"
   ]
  },
  {
   "cell_type": "code",
   "execution_count": 189,
   "id": "814f5665",
   "metadata": {},
   "outputs": [
    {
     "name": "stdout",
     "output_type": "stream",
     "text": [
      "Epoch 1/20\n",
      "525/525 [==============================] - 1s 2ms/step - loss: 0.3904 - accuracy: 0.8392 - val_loss: 0.4078 - val_accuracy: 0.8360\n",
      "Epoch 2/20\n",
      "525/525 [==============================] - 1s 2ms/step - loss: 0.3796 - accuracy: 0.8415 - val_loss: 0.4096 - val_accuracy: 0.8389\n",
      "Epoch 3/20\n",
      "525/525 [==============================] - 1s 2ms/step - loss: 0.3772 - accuracy: 0.8465 - val_loss: 0.4318 - val_accuracy: 0.8446\n",
      "Epoch 4/20\n",
      "525/525 [==============================] - 1s 2ms/step - loss: 0.3791 - accuracy: 0.8482 - val_loss: 0.4259 - val_accuracy: 0.8389\n",
      "Epoch 5/20\n",
      "525/525 [==============================] - 1s 2ms/step - loss: 0.3766 - accuracy: 0.8488 - val_loss: 0.4231 - val_accuracy: 0.8406\n",
      "Epoch 6/20\n",
      "525/525 [==============================] - 1s 2ms/step - loss: 0.3751 - accuracy: 0.8467 - val_loss: 0.4359 - val_accuracy: 0.8406\n",
      "Epoch 7/20\n",
      "525/525 [==============================] - 1s 2ms/step - loss: 0.3924 - accuracy: 0.8381 - val_loss: 0.4202 - val_accuracy: 0.8354\n",
      "Epoch 8/20\n",
      "525/525 [==============================] - 1s 2ms/step - loss: 0.3799 - accuracy: 0.8423 - val_loss: 0.4034 - val_accuracy: 0.8349\n",
      "Epoch 9/20\n",
      "525/525 [==============================] - 1s 2ms/step - loss: 0.3641 - accuracy: 0.8446 - val_loss: 0.4050 - val_accuracy: 0.8371\n",
      "Epoch 10/20\n",
      "525/525 [==============================] - 1s 2ms/step - loss: 0.3659 - accuracy: 0.8488 - val_loss: 0.4034 - val_accuracy: 0.8377\n",
      "Epoch 11/20\n",
      "525/525 [==============================] - 1s 2ms/step - loss: 0.3653 - accuracy: 0.8442 - val_loss: 0.4114 - val_accuracy: 0.8383\n",
      "Epoch 12/20\n",
      "525/525 [==============================] - 1s 2ms/step - loss: 0.3740 - accuracy: 0.8457 - val_loss: 0.3978 - val_accuracy: 0.8377\n",
      "Epoch 13/20\n",
      "525/525 [==============================] - 1s 2ms/step - loss: 0.3652 - accuracy: 0.8484 - val_loss: 0.4311 - val_accuracy: 0.8429\n",
      "Epoch 14/20\n",
      "525/525 [==============================] - 1s 2ms/step - loss: 0.3579 - accuracy: 0.8493 - val_loss: 0.4290 - val_accuracy: 0.8440\n",
      "Epoch 15/20\n",
      "525/525 [==============================] - 1s 2ms/step - loss: 0.3585 - accuracy: 0.8501 - val_loss: 0.4213 - val_accuracy: 0.8463\n",
      "Epoch 16/20\n",
      "525/525 [==============================] - 1s 2ms/step - loss: 0.3569 - accuracy: 0.8482 - val_loss: 0.4339 - val_accuracy: 0.8463\n",
      "Epoch 17/20\n",
      "525/525 [==============================] - 1s 2ms/step - loss: 0.3597 - accuracy: 0.8516 - val_loss: 0.4159 - val_accuracy: 0.8400\n",
      "Epoch 18/20\n",
      "525/525 [==============================] - 1s 2ms/step - loss: 0.3581 - accuracy: 0.8526 - val_loss: 0.4490 - val_accuracy: 0.8440\n",
      "Epoch 19/20\n",
      "525/525 [==============================] - 1s 2ms/step - loss: 0.3528 - accuracy: 0.8518 - val_loss: 0.4342 - val_accuracy: 0.8463\n",
      "Epoch 20/20\n",
      "525/525 [==============================] - 1s 2ms/step - loss: 0.3501 - accuracy: 0.8512 - val_loss: 0.4418 - val_accuracy: 0.8474\n"
     ]
    }
   ],
   "source": [
    "internal_model=Model2.fit(X_train,y_train,validation_split=0.25,batch_size=10,epochs=20)\n",
    "# with 20 Epoch accuracy increased"
   ]
  },
  {
   "cell_type": "code",
   "execution_count": 190,
   "id": "3c581b1a",
   "metadata": {
    "scrolled": true
   },
   "outputs": [
    {
     "name": "stdout",
     "output_type": "stream",
     "text": [
      "Epoch 1/50\n",
      "525/525 [==============================] - 1s 2ms/step - loss: 0.3517 - accuracy: 0.8549 - val_loss: 0.4183 - val_accuracy: 0.8474\n",
      "Epoch 2/50\n",
      "525/525 [==============================] - 1s 2ms/step - loss: 0.3497 - accuracy: 0.8520 - val_loss: 0.4305 - val_accuracy: 0.8406\n",
      "Epoch 3/50\n",
      "525/525 [==============================] - 1s 2ms/step - loss: 0.3558 - accuracy: 0.8522 - val_loss: 0.4136 - val_accuracy: 0.8491\n",
      "Epoch 4/50\n",
      "525/525 [==============================] - 1s 2ms/step - loss: 0.3507 - accuracy: 0.8549 - val_loss: 0.4365 - val_accuracy: 0.8451\n",
      "Epoch 5/50\n",
      "525/525 [==============================] - 1s 2ms/step - loss: 0.3527 - accuracy: 0.8554 - val_loss: 0.4143 - val_accuracy: 0.8423\n",
      "Epoch 6/50\n",
      "525/525 [==============================] - 1s 2ms/step - loss: 0.3453 - accuracy: 0.8545 - val_loss: 0.4335 - val_accuracy: 0.8509\n",
      "Epoch 7/50\n",
      "525/525 [==============================] - 1s 2ms/step - loss: 0.3481 - accuracy: 0.8543 - val_loss: 0.4154 - val_accuracy: 0.8509\n",
      "Epoch 8/50\n",
      "525/525 [==============================] - 1s 2ms/step - loss: 0.3496 - accuracy: 0.8541 - val_loss: 0.3943 - val_accuracy: 0.8520\n",
      "Epoch 9/50\n",
      "525/525 [==============================] - 1s 2ms/step - loss: 0.3475 - accuracy: 0.8539 - val_loss: 0.4375 - val_accuracy: 0.8520\n",
      "Epoch 10/50\n",
      "525/525 [==============================] - 1s 2ms/step - loss: 0.3417 - accuracy: 0.8570 - val_loss: 0.4382 - val_accuracy: 0.8486\n",
      "Epoch 11/50\n",
      "525/525 [==============================] - 1s 2ms/step - loss: 0.3410 - accuracy: 0.8556 - val_loss: 0.4319 - val_accuracy: 0.8486\n",
      "Epoch 12/50\n",
      "525/525 [==============================] - 1s 2ms/step - loss: 0.3428 - accuracy: 0.8571 - val_loss: 0.4496 - val_accuracy: 0.8509\n",
      "Epoch 13/50\n",
      "525/525 [==============================] - 1s 2ms/step - loss: 0.3492 - accuracy: 0.8554 - val_loss: 0.4563 - val_accuracy: 0.8469\n",
      "Epoch 14/50\n",
      "525/525 [==============================] - 1s 2ms/step - loss: 0.3589 - accuracy: 0.8560 - val_loss: 0.4372 - val_accuracy: 0.8503\n",
      "Epoch 15/50\n",
      "525/525 [==============================] - 1s 2ms/step - loss: 0.3485 - accuracy: 0.8556 - val_loss: 0.4307 - val_accuracy: 0.8440\n",
      "Epoch 16/50\n",
      "525/525 [==============================] - 1s 2ms/step - loss: 0.3411 - accuracy: 0.8575 - val_loss: 0.4403 - val_accuracy: 0.8474\n",
      "Epoch 17/50\n",
      "525/525 [==============================] - 1s 2ms/step - loss: 0.3462 - accuracy: 0.8587 - val_loss: 0.4465 - val_accuracy: 0.8554\n",
      "Epoch 18/50\n",
      "525/525 [==============================] - 1s 2ms/step - loss: 0.3437 - accuracy: 0.8594 - val_loss: 0.4238 - val_accuracy: 0.8474\n",
      "Epoch 19/50\n",
      "525/525 [==============================] - 1s 2ms/step - loss: 0.3440 - accuracy: 0.8579 - val_loss: 0.4249 - val_accuracy: 0.8486\n",
      "Epoch 20/50\n",
      "525/525 [==============================] - 1s 2ms/step - loss: 0.3394 - accuracy: 0.8575 - val_loss: 0.4365 - val_accuracy: 0.8491\n",
      "Epoch 21/50\n",
      "525/525 [==============================] - 1s 2ms/step - loss: 0.3457 - accuracy: 0.8554 - val_loss: 0.4311 - val_accuracy: 0.8514\n",
      "Epoch 22/50\n",
      "525/525 [==============================] - 1s 2ms/step - loss: 0.3420 - accuracy: 0.8594 - val_loss: 0.4258 - val_accuracy: 0.8486\n",
      "Epoch 23/50\n",
      "525/525 [==============================] - 1s 2ms/step - loss: 0.3503 - accuracy: 0.8541 - val_loss: 0.4451 - val_accuracy: 0.8491\n",
      "Epoch 24/50\n",
      "525/525 [==============================] - 1s 2ms/step - loss: 0.3435 - accuracy: 0.8560 - val_loss: 0.4334 - val_accuracy: 0.8514\n",
      "Epoch 25/50\n",
      "525/525 [==============================] - 1s 2ms/step - loss: 0.3354 - accuracy: 0.8598 - val_loss: 0.4163 - val_accuracy: 0.8503\n",
      "Epoch 26/50\n",
      "525/525 [==============================] - 1s 2ms/step - loss: 0.3369 - accuracy: 0.8568 - val_loss: 0.4248 - val_accuracy: 0.8497\n",
      "Epoch 27/50\n",
      "525/525 [==============================] - 1s 2ms/step - loss: 0.3491 - accuracy: 0.8594 - val_loss: 0.4554 - val_accuracy: 0.8537\n",
      "Epoch 28/50\n",
      "525/525 [==============================] - 1s 2ms/step - loss: 0.3351 - accuracy: 0.8590 - val_loss: 0.4380 - val_accuracy: 0.8491\n",
      "Epoch 29/50\n",
      "525/525 [==============================] - 1s 2ms/step - loss: 0.3381 - accuracy: 0.8568 - val_loss: 0.4436 - val_accuracy: 0.8497\n",
      "Epoch 30/50\n",
      "525/525 [==============================] - 1s 2ms/step - loss: 0.3392 - accuracy: 0.8594 - val_loss: 0.4525 - val_accuracy: 0.8543\n",
      "Epoch 31/50\n",
      "525/525 [==============================] - 1s 2ms/step - loss: 0.3340 - accuracy: 0.8608 - val_loss: 0.4274 - val_accuracy: 0.8514\n",
      "Epoch 32/50\n",
      "525/525 [==============================] - 1s 2ms/step - loss: 0.3449 - accuracy: 0.8581 - val_loss: 0.4143 - val_accuracy: 0.8531\n",
      "Epoch 33/50\n",
      "525/525 [==============================] - 1s 2ms/step - loss: 0.3422 - accuracy: 0.8590 - val_loss: 0.4290 - val_accuracy: 0.8497\n",
      "Epoch 34/50\n",
      "525/525 [==============================] - 1s 2ms/step - loss: 0.3391 - accuracy: 0.8594 - val_loss: 0.4317 - val_accuracy: 0.8440\n",
      "Epoch 35/50\n",
      "525/525 [==============================] - 1s 2ms/step - loss: 0.3500 - accuracy: 0.8583 - val_loss: 0.4054 - val_accuracy: 0.8497\n",
      "Epoch 36/50\n",
      "525/525 [==============================] - 1s 2ms/step - loss: 0.3485 - accuracy: 0.8552 - val_loss: 0.4378 - val_accuracy: 0.8417\n",
      "Epoch 37/50\n",
      "525/525 [==============================] - 1s 2ms/step - loss: 0.3399 - accuracy: 0.8560 - val_loss: 0.4226 - val_accuracy: 0.8474\n",
      "Epoch 38/50\n",
      "525/525 [==============================] - 1s 2ms/step - loss: 0.3314 - accuracy: 0.8583 - val_loss: 0.4358 - val_accuracy: 0.8560\n",
      "Epoch 39/50\n",
      "525/525 [==============================] - 1s 2ms/step - loss: 0.3292 - accuracy: 0.8585 - val_loss: 0.4186 - val_accuracy: 0.8474\n",
      "Epoch 40/50\n",
      "525/525 [==============================] - 1s 2ms/step - loss: 0.3302 - accuracy: 0.8602 - val_loss: 0.4420 - val_accuracy: 0.8537\n",
      "Epoch 41/50\n",
      "525/525 [==============================] - 1s 2ms/step - loss: 0.3289 - accuracy: 0.8596 - val_loss: 0.4299 - val_accuracy: 0.8480\n",
      "Epoch 42/50\n",
      "525/525 [==============================] - 1s 2ms/step - loss: 0.3363 - accuracy: 0.8594 - val_loss: 0.4716 - val_accuracy: 0.8520\n",
      "Epoch 43/50\n",
      "525/525 [==============================] - 1s 2ms/step - loss: 0.3351 - accuracy: 0.8600 - val_loss: 0.4171 - val_accuracy: 0.8526\n",
      "Epoch 44/50\n",
      "525/525 [==============================] - 1s 2ms/step - loss: 0.3367 - accuracy: 0.8583 - val_loss: 0.4296 - val_accuracy: 0.8503\n",
      "Epoch 45/50\n",
      "525/525 [==============================] - 1s 2ms/step - loss: 0.3325 - accuracy: 0.8589 - val_loss: 0.4288 - val_accuracy: 0.8486\n",
      "Epoch 46/50\n",
      "525/525 [==============================] - 1s 2ms/step - loss: 0.3324 - accuracy: 0.8592 - val_loss: 0.4428 - val_accuracy: 0.8520\n",
      "Epoch 47/50\n",
      "525/525 [==============================] - 1s 2ms/step - loss: 0.3305 - accuracy: 0.8598 - val_loss: 0.4277 - val_accuracy: 0.8486\n",
      "Epoch 48/50\n",
      "525/525 [==============================] - 1s 2ms/step - loss: 0.3400 - accuracy: 0.8606 - val_loss: 0.4456 - val_accuracy: 0.8526\n",
      "Epoch 49/50\n",
      "525/525 [==============================] - 1s 2ms/step - loss: 0.3270 - accuracy: 0.8606 - val_loss: 0.4605 - val_accuracy: 0.8514\n",
      "Epoch 50/50\n",
      "525/525 [==============================] - 1s 2ms/step - loss: 0.3335 - accuracy: 0.8587 - val_loss: 0.4340 - val_accuracy: 0.8486\n"
     ]
    }
   ],
   "source": [
    "internal_model=Model2.fit(X_train,y_train,validation_split=0.25,batch_size=10,epochs=50)\n",
    "# with 50 Epoch accuracy increased abit not much to 85"
   ]
  },
  {
   "cell_type": "code",
   "execution_count": 191,
   "id": "3c7265a8",
   "metadata": {
    "scrolled": true
   },
   "outputs": [
    {
     "name": "stdout",
     "output_type": "stream",
     "text": [
      "94/94 [==============================] - 0s 1ms/step\n"
     ]
    }
   ],
   "source": [
    "y_pred = Model2.predict(X_test)"
   ]
  },
  {
   "cell_type": "code",
   "execution_count": 192,
   "id": "7b7c9f3b",
   "metadata": {
    "scrolled": true
   },
   "outputs": [
    {
     "data": {
      "text/plain": [
       "array([[0.45319575],\n",
       "       [0.35199225],\n",
       "       [0.17543064],\n",
       "       ...,\n",
       "       [0.08757344],\n",
       "       [0.34100422],\n",
       "       [0.52544314]], dtype=float32)"
      ]
     },
     "execution_count": 192,
     "metadata": {},
     "output_type": "execute_result"
    }
   ],
   "source": [
    "y_pred"
   ]
  },
  {
   "cell_type": "code",
   "execution_count": 197,
   "id": "1e723226",
   "metadata": {},
   "outputs": [
    {
     "data": {
      "text/plain": [
       "array([[False],\n",
       "       [False],\n",
       "       [False],\n",
       "       ...,\n",
       "       [False],\n",
       "       [False],\n",
       "       [ True]])"
      ]
     },
     "execution_count": 197,
     "metadata": {},
     "output_type": "execute_result"
    }
   ],
   "source": [
    "y_pred_NN = (y_pred > 0.5)\n",
    "y_pred_NN"
   ]
  },
  {
   "cell_type": "code",
   "execution_count": 198,
   "id": "6a3ff60e",
   "metadata": {},
   "outputs": [
    {
     "data": {
      "text/plain": [
       "array([[2220,  159],\n",
       "       [ 273,  348]])"
      ]
     },
     "execution_count": 198,
     "metadata": {},
     "output_type": "execute_result"
    }
   ],
   "source": [
    "Cm_NN= confusion_matrix(y_test, y_pred_NN)\n",
    "Cm_NN"
   ]
  },
  {
   "cell_type": "code",
   "execution_count": 199,
   "id": "bf50622d",
   "metadata": {},
   "outputs": [
    {
     "data": {
      "text/plain": [
       "0.856"
      ]
     },
     "execution_count": 199,
     "metadata": {},
     "output_type": "execute_result"
    }
   ],
   "source": [
    "score=accuracy_score(y_pred_NN,y_test)\n",
    "score"
   ]
  },
  {
   "cell_type": "code",
   "execution_count": 200,
   "id": "cc2b82aa",
   "metadata": {},
   "outputs": [
    {
     "data": {
      "text/plain": [
       "0.856"
      ]
     },
     "execution_count": 200,
     "metadata": {},
     "output_type": "execute_result"
    }
   ],
   "source": [
    "score1=accuracy_score(y_test,y_pred_NN)\n",
    "score1"
   ]
  },
  {
   "cell_type": "markdown",
   "id": "5eb62b40",
   "metadata": {},
   "source": [
    "Neural Netwrok performed better than logistic regression, NN score is 85.6%"
   ]
  },
  {
   "cell_type": "code",
   "execution_count": null,
   "id": "6e9666af",
   "metadata": {},
   "outputs": [],
   "source": []
  },
  {
   "cell_type": "code",
   "execution_count": null,
   "id": "9d6cbe0e",
   "metadata": {},
   "outputs": [],
   "source": []
  },
  {
   "cell_type": "markdown",
   "id": "db17e57d",
   "metadata": {},
   "source": [
    "# --- Model 3 Decision Tree and ensemble--"
   ]
  },
  {
   "cell_type": "code",
   "execution_count": 152,
   "id": "84f1f504",
   "metadata": {},
   "outputs": [],
   "source": [
    "from sklearn import tree, ensemble"
   ]
  },
  {
   "cell_type": "code",
   "execution_count": 201,
   "id": "336043c2",
   "metadata": {
    "scrolled": true
   },
   "outputs": [
    {
     "data": {
      "text/html": [
       "<style>#sk-container-id-18 {color: black;background-color: white;}#sk-container-id-18 pre{padding: 0;}#sk-container-id-18 div.sk-toggleable {background-color: white;}#sk-container-id-18 label.sk-toggleable__label {cursor: pointer;display: block;width: 100%;margin-bottom: 0;padding: 0.3em;box-sizing: border-box;text-align: center;}#sk-container-id-18 label.sk-toggleable__label-arrow:before {content: \"▸\";float: left;margin-right: 0.25em;color: #696969;}#sk-container-id-18 label.sk-toggleable__label-arrow:hover:before {color: black;}#sk-container-id-18 div.sk-estimator:hover label.sk-toggleable__label-arrow:before {color: black;}#sk-container-id-18 div.sk-toggleable__content {max-height: 0;max-width: 0;overflow: hidden;text-align: left;background-color: #f0f8ff;}#sk-container-id-18 div.sk-toggleable__content pre {margin: 0.2em;color: black;border-radius: 0.25em;background-color: #f0f8ff;}#sk-container-id-18 input.sk-toggleable__control:checked~div.sk-toggleable__content {max-height: 200px;max-width: 100%;overflow: auto;}#sk-container-id-18 input.sk-toggleable__control:checked~label.sk-toggleable__label-arrow:before {content: \"▾\";}#sk-container-id-18 div.sk-estimator input.sk-toggleable__control:checked~label.sk-toggleable__label {background-color: #d4ebff;}#sk-container-id-18 div.sk-label input.sk-toggleable__control:checked~label.sk-toggleable__label {background-color: #d4ebff;}#sk-container-id-18 input.sk-hidden--visually {border: 0;clip: rect(1px 1px 1px 1px);clip: rect(1px, 1px, 1px, 1px);height: 1px;margin: -1px;overflow: hidden;padding: 0;position: absolute;width: 1px;}#sk-container-id-18 div.sk-estimator {font-family: monospace;background-color: #f0f8ff;border: 1px dotted black;border-radius: 0.25em;box-sizing: border-box;margin-bottom: 0.5em;}#sk-container-id-18 div.sk-estimator:hover {background-color: #d4ebff;}#sk-container-id-18 div.sk-parallel-item::after {content: \"\";width: 100%;border-bottom: 1px solid gray;flex-grow: 1;}#sk-container-id-18 div.sk-label:hover label.sk-toggleable__label {background-color: #d4ebff;}#sk-container-id-18 div.sk-serial::before {content: \"\";position: absolute;border-left: 1px solid gray;box-sizing: border-box;top: 0;bottom: 0;left: 50%;z-index: 0;}#sk-container-id-18 div.sk-serial {display: flex;flex-direction: column;align-items: center;background-color: white;padding-right: 0.2em;padding-left: 0.2em;position: relative;}#sk-container-id-18 div.sk-item {position: relative;z-index: 1;}#sk-container-id-18 div.sk-parallel {display: flex;align-items: stretch;justify-content: center;background-color: white;position: relative;}#sk-container-id-18 div.sk-item::before, #sk-container-id-18 div.sk-parallel-item::before {content: \"\";position: absolute;border-left: 1px solid gray;box-sizing: border-box;top: 0;bottom: 0;left: 50%;z-index: -1;}#sk-container-id-18 div.sk-parallel-item {display: flex;flex-direction: column;z-index: 1;position: relative;background-color: white;}#sk-container-id-18 div.sk-parallel-item:first-child::after {align-self: flex-end;width: 50%;}#sk-container-id-18 div.sk-parallel-item:last-child::after {align-self: flex-start;width: 50%;}#sk-container-id-18 div.sk-parallel-item:only-child::after {width: 0;}#sk-container-id-18 div.sk-dashed-wrapped {border: 1px dashed gray;margin: 0 0.4em 0.5em 0.4em;box-sizing: border-box;padding-bottom: 0.4em;background-color: white;}#sk-container-id-18 div.sk-label label {font-family: monospace;font-weight: bold;display: inline-block;line-height: 1.2em;}#sk-container-id-18 div.sk-label-container {text-align: center;}#sk-container-id-18 div.sk-container {/* jupyter's `normalize.less` sets `[hidden] { display: none; }` but bootstrap.min.css set `[hidden] { display: none !important; }` so we also need the `!important` here to be able to override the default hidden behavior on the sphinx rendered scikit-learn.org. See: https://github.com/scikit-learn/scikit-learn/issues/21755 */display: inline-block !important;position: relative;}#sk-container-id-18 div.sk-text-repr-fallback {display: none;}</style><div id=\"sk-container-id-18\" class=\"sk-top-container\"><div class=\"sk-text-repr-fallback\"><pre>DecisionTreeClassifier()</pre><b>In a Jupyter environment, please rerun this cell to show the HTML representation or trust the notebook. <br />On GitHub, the HTML representation is unable to render, please try loading this page with nbviewer.org.</b></div><div class=\"sk-container\" hidden><div class=\"sk-item\"><div class=\"sk-estimator sk-toggleable\"><input class=\"sk-toggleable__control sk-hidden--visually\" id=\"sk-estimator-id-18\" type=\"checkbox\" checked><label for=\"sk-estimator-id-18\" class=\"sk-toggleable__label sk-toggleable__label-arrow\">DecisionTreeClassifier</label><div class=\"sk-toggleable__content\"><pre>DecisionTreeClassifier()</pre></div></div></div></div></div>"
      ],
      "text/plain": [
       "DecisionTreeClassifier()"
      ]
     },
     "execution_count": 201,
     "metadata": {},
     "output_type": "execute_result"
    }
   ],
   "source": [
    "Model3= tree.DecisionTreeClassifier()\n",
    "Model3.fit(X_train,y_train)"
   ]
  },
  {
   "cell_type": "code",
   "execution_count": 202,
   "id": "a8ea970f",
   "metadata": {},
   "outputs": [],
   "source": [
    "y_pred_DT = Model3.predict(X_test)"
   ]
  },
  {
   "cell_type": "code",
   "execution_count": 203,
   "id": "d5b97d48",
   "metadata": {},
   "outputs": [
    {
     "data": {
      "text/plain": [
       "array([0, 1, 0, ..., 0, 0, 0])"
      ]
     },
     "execution_count": 203,
     "metadata": {},
     "output_type": "execute_result"
    }
   ],
   "source": [
    "y_pred_DT"
   ]
  },
  {
   "cell_type": "code",
   "execution_count": 204,
   "id": "7fe0b940",
   "metadata": {},
   "outputs": [
    {
     "data": {
      "text/plain": [
       "array([[2051,  328],\n",
       "       [ 286,  335]])"
      ]
     },
     "execution_count": 204,
     "metadata": {},
     "output_type": "execute_result"
    }
   ],
   "source": [
    "Cm_DT= confusion_matrix(y_test, y_pred_DT)\n",
    "Cm_DT"
   ]
  },
  {
   "cell_type": "code",
   "execution_count": null,
   "id": "8e2fde31",
   "metadata": {},
   "outputs": [],
   "source": []
  },
  {
   "cell_type": "code",
   "execution_count": 205,
   "id": "7dfa87b9",
   "metadata": {
    "scrolled": true
   },
   "outputs": [
    {
     "data": {
      "text/plain": [
       "0.7953333333333333"
      ]
     },
     "execution_count": 205,
     "metadata": {},
     "output_type": "execute_result"
    }
   ],
   "source": [
    "Model3.score(X_test, y_test)"
   ]
  },
  {
   "cell_type": "code",
   "execution_count": 206,
   "id": "827c0b43",
   "metadata": {},
   "outputs": [
    {
     "data": {
      "text/plain": [
       "0.7953333333333333"
      ]
     },
     "execution_count": 206,
     "metadata": {},
     "output_type": "execute_result"
    }
   ],
   "source": [
    "score=accuracy_score(y_pred_DT,y_test)\n",
    "score"
   ]
  },
  {
   "cell_type": "markdown",
   "id": "b09ef64b",
   "metadata": {},
   "source": [
    "###### Decision Tree has the accuracy of 80.16 and lowest with default setting, but as decide the depth 2 and increase depth till 5 acuracy increasing  till 85.9, higher depth is overfitting scenarion and not genralised"
   ]
  },
  {
   "cell_type": "code",
   "execution_count": 207,
   "id": "480a874e",
   "metadata": {
    "scrolled": false
   },
   "outputs": [
    {
     "data": {
      "text/html": [
       "<style>#sk-container-id-19 {color: black;background-color: white;}#sk-container-id-19 pre{padding: 0;}#sk-container-id-19 div.sk-toggleable {background-color: white;}#sk-container-id-19 label.sk-toggleable__label {cursor: pointer;display: block;width: 100%;margin-bottom: 0;padding: 0.3em;box-sizing: border-box;text-align: center;}#sk-container-id-19 label.sk-toggleable__label-arrow:before {content: \"▸\";float: left;margin-right: 0.25em;color: #696969;}#sk-container-id-19 label.sk-toggleable__label-arrow:hover:before {color: black;}#sk-container-id-19 div.sk-estimator:hover label.sk-toggleable__label-arrow:before {color: black;}#sk-container-id-19 div.sk-toggleable__content {max-height: 0;max-width: 0;overflow: hidden;text-align: left;background-color: #f0f8ff;}#sk-container-id-19 div.sk-toggleable__content pre {margin: 0.2em;color: black;border-radius: 0.25em;background-color: #f0f8ff;}#sk-container-id-19 input.sk-toggleable__control:checked~div.sk-toggleable__content {max-height: 200px;max-width: 100%;overflow: auto;}#sk-container-id-19 input.sk-toggleable__control:checked~label.sk-toggleable__label-arrow:before {content: \"▾\";}#sk-container-id-19 div.sk-estimator input.sk-toggleable__control:checked~label.sk-toggleable__label {background-color: #d4ebff;}#sk-container-id-19 div.sk-label input.sk-toggleable__control:checked~label.sk-toggleable__label {background-color: #d4ebff;}#sk-container-id-19 input.sk-hidden--visually {border: 0;clip: rect(1px 1px 1px 1px);clip: rect(1px, 1px, 1px, 1px);height: 1px;margin: -1px;overflow: hidden;padding: 0;position: absolute;width: 1px;}#sk-container-id-19 div.sk-estimator {font-family: monospace;background-color: #f0f8ff;border: 1px dotted black;border-radius: 0.25em;box-sizing: border-box;margin-bottom: 0.5em;}#sk-container-id-19 div.sk-estimator:hover {background-color: #d4ebff;}#sk-container-id-19 div.sk-parallel-item::after {content: \"\";width: 100%;border-bottom: 1px solid gray;flex-grow: 1;}#sk-container-id-19 div.sk-label:hover label.sk-toggleable__label {background-color: #d4ebff;}#sk-container-id-19 div.sk-serial::before {content: \"\";position: absolute;border-left: 1px solid gray;box-sizing: border-box;top: 0;bottom: 0;left: 50%;z-index: 0;}#sk-container-id-19 div.sk-serial {display: flex;flex-direction: column;align-items: center;background-color: white;padding-right: 0.2em;padding-left: 0.2em;position: relative;}#sk-container-id-19 div.sk-item {position: relative;z-index: 1;}#sk-container-id-19 div.sk-parallel {display: flex;align-items: stretch;justify-content: center;background-color: white;position: relative;}#sk-container-id-19 div.sk-item::before, #sk-container-id-19 div.sk-parallel-item::before {content: \"\";position: absolute;border-left: 1px solid gray;box-sizing: border-box;top: 0;bottom: 0;left: 50%;z-index: -1;}#sk-container-id-19 div.sk-parallel-item {display: flex;flex-direction: column;z-index: 1;position: relative;background-color: white;}#sk-container-id-19 div.sk-parallel-item:first-child::after {align-self: flex-end;width: 50%;}#sk-container-id-19 div.sk-parallel-item:last-child::after {align-self: flex-start;width: 50%;}#sk-container-id-19 div.sk-parallel-item:only-child::after {width: 0;}#sk-container-id-19 div.sk-dashed-wrapped {border: 1px dashed gray;margin: 0 0.4em 0.5em 0.4em;box-sizing: border-box;padding-bottom: 0.4em;background-color: white;}#sk-container-id-19 div.sk-label label {font-family: monospace;font-weight: bold;display: inline-block;line-height: 1.2em;}#sk-container-id-19 div.sk-label-container {text-align: center;}#sk-container-id-19 div.sk-container {/* jupyter's `normalize.less` sets `[hidden] { display: none; }` but bootstrap.min.css set `[hidden] { display: none !important; }` so we also need the `!important` here to be able to override the default hidden behavior on the sphinx rendered scikit-learn.org. See: https://github.com/scikit-learn/scikit-learn/issues/21755 */display: inline-block !important;position: relative;}#sk-container-id-19 div.sk-text-repr-fallback {display: none;}</style><div id=\"sk-container-id-19\" class=\"sk-top-container\"><div class=\"sk-text-repr-fallback\"><pre>DecisionTreeClassifier(max_depth=2)</pre><b>In a Jupyter environment, please rerun this cell to show the HTML representation or trust the notebook. <br />On GitHub, the HTML representation is unable to render, please try loading this page with nbviewer.org.</b></div><div class=\"sk-container\" hidden><div class=\"sk-item\"><div class=\"sk-estimator sk-toggleable\"><input class=\"sk-toggleable__control sk-hidden--visually\" id=\"sk-estimator-id-19\" type=\"checkbox\" checked><label for=\"sk-estimator-id-19\" class=\"sk-toggleable__label sk-toggleable__label-arrow\">DecisionTreeClassifier</label><div class=\"sk-toggleable__content\"><pre>DecisionTreeClassifier(max_depth=2)</pre></div></div></div></div></div>"
      ],
      "text/plain": [
       "DecisionTreeClassifier(max_depth=2)"
      ]
     },
     "execution_count": 207,
     "metadata": {},
     "output_type": "execute_result"
    }
   ],
   "source": [
    "Model3_2= tree.DecisionTreeClassifier(max_depth=2)\n",
    "Model3_2.fit(X_train,y_train)"
   ]
  },
  {
   "cell_type": "code",
   "execution_count": 208,
   "id": "af5c2785",
   "metadata": {},
   "outputs": [
    {
     "data": {
      "text/plain": [
       "0.836"
      ]
     },
     "execution_count": 208,
     "metadata": {},
     "output_type": "execute_result"
    }
   ],
   "source": [
    "Model3_2.score(X_test, y_test)"
   ]
  },
  {
   "cell_type": "code",
   "execution_count": 209,
   "id": "19b21c44",
   "metadata": {},
   "outputs": [
    {
     "data": {
      "text/plain": [
       "0.84"
      ]
     },
     "execution_count": 209,
     "metadata": {},
     "output_type": "execute_result"
    }
   ],
   "source": [
    "Model3_3= tree.DecisionTreeClassifier(max_depth=3)\n",
    "Model3_3.fit(X_train,y_train)\n",
    "Model3_3.score(X_test, y_test)"
   ]
  },
  {
   "cell_type": "code",
   "execution_count": 210,
   "id": "8782b2c8",
   "metadata": {},
   "outputs": [
    {
     "data": {
      "text/plain": [
       "0.8546666666666667"
      ]
     },
     "execution_count": 210,
     "metadata": {},
     "output_type": "execute_result"
    }
   ],
   "source": [
    "Model3_4= tree.DecisionTreeClassifier(max_depth=4)\n",
    "Model3_4.fit(X_train,y_train)\n",
    "Model3_4.score(X_test, y_test)"
   ]
  },
  {
   "cell_type": "code",
   "execution_count": 211,
   "id": "ce767040",
   "metadata": {},
   "outputs": [
    {
     "data": {
      "text/plain": [
       "0.8586666666666667"
      ]
     },
     "execution_count": 211,
     "metadata": {},
     "output_type": "execute_result"
    }
   ],
   "source": [
    "Model3_5= tree.DecisionTreeClassifier(max_depth=5)\n",
    "Model3_5.fit(X_train,y_train)\n",
    "Model3_5.score(X_test, y_test)"
   ]
  },
  {
   "cell_type": "markdown",
   "id": "06e3cb8b",
   "metadata": {},
   "source": [
    "# So Neural network model 2 performed better "
   ]
  },
  {
   "cell_type": "code",
   "execution_count": null,
   "id": "4bab151e",
   "metadata": {},
   "outputs": [],
   "source": []
  }
 ],
 "metadata": {
  "kernelspec": {
   "display_name": "Python 3 (ipykernel)",
   "language": "python",
   "name": "python3"
  },
  "language_info": {
   "codemirror_mode": {
    "name": "ipython",
    "version": 3
   },
   "file_extension": ".py",
   "mimetype": "text/x-python",
   "name": "python",
   "nbconvert_exporter": "python",
   "pygments_lexer": "ipython3",
   "version": "3.9.7"
  }
 },
 "nbformat": 4,
 "nbformat_minor": 5
}
